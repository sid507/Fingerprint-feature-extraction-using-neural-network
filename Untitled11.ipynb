{
  "nbformat": 4,
  "nbformat_minor": 0,
  "metadata": {
    "colab": {
      "name": "Untitled11.ipynb",
      "provenance": [],
      "collapsed_sections": [],
      "toc_visible": true,
      "include_colab_link": true
    },
    "kernelspec": {
      "name": "python3",
      "display_name": "Python 3"
    }
  },
  "cells": [
    {
      "cell_type": "markdown",
      "metadata": {
        "id": "view-in-github",
        "colab_type": "text"
      },
      "source": [
        "<a href=\"https://colab.research.google.com/github/sid507/Fingerprint-feature-extraction-using-neural-network/blob/main/Untitled11.ipynb\" target=\"_parent\"><img src=\"https://colab.research.google.com/assets/colab-badge.svg\" alt=\"Open In Colab\"/></a>"
      ]
    },
    {
      "cell_type": "code",
      "metadata": {
        "id": "UdUmj-UhR3X9"
      },
      "source": [
        "import matplotlib.pyplot as plt\n",
        "import numpy as np\n"
      ],
      "execution_count": null,
      "outputs": []
    },
    {
      "cell_type": "code",
      "metadata": {
        "id": "e8quvAhBSB6q"
      },
      "source": [
        "\n",
        "def layer_sizes(X, Y):\n",
        "    \"\"\"\n",
        "    Arguments:\n",
        "    X -- input dataset of shape (input size, number of examples)\n",
        "    Y -- labels of shape (output size, number of examples)\n",
        "    \n",
        "    Returns:\n",
        "    n_x -- the size of the input layer\n",
        "    n_h -- the size of the hidden layer\n",
        "    n_y -- the size of the output layer\n",
        "    \"\"\"\n",
        "    ### START CODE HERE ### (≈ 3 lines of code)\n",
        "    n_x = X.shape[0] # size of input layer\n",
        "    n_h = 5\n",
        "    n_y = Y.shape[0] # size of output layer\n",
        "    ### END CODE HERE ###\n",
        "    return (n_x, n_h, n_y)"
      ],
      "execution_count": null,
      "outputs": []
    },
    {
      "cell_type": "code",
      "metadata": {
        "id": "fMOC2tdnSKI1"
      },
      "source": [
        "\n",
        "def initialize_parameters(n_x, n_h, n_y):\n",
        "    \n",
        "    np.random.seed(2)\n",
        "    W1 = np.random.randn(n_h,n_x)*0.01\n",
        "    b1 = np.zeros((n_h,1))\n",
        "    W2 = np.random.randn(n_y,n_h)*0.01\n",
        "    b2 = np.zeros((n_y,1))\n",
        "    parameters = {\"W1\": W1,\n",
        "                  \"b1\": b1,\n",
        "                  \"W2\": W2,\n",
        "                  \"b2\": b2}\n",
        "    \n",
        "    return parameters"
      ],
      "execution_count": null,
      "outputs": []
    },
    {
      "cell_type": "code",
      "metadata": {
        "id": "nj4n9di9ST1F"
      },
      "source": [
        "def forward_propagation(X, parameters):\n",
        "    W1 = parameters[\"W1\"]\n",
        "    b1 = parameters[\"b1\"]\n",
        "    W2 = parameters[\"W2\"]\n",
        "    b2 = parameters[\"b2\"]\n",
        "\n",
        "    Z1 = np.dot(W1,X)+b1\n",
        "    A1 = np.tanh(Z1)\n",
        "    Z2 = np.dot(W2,A1)+b2\n",
        "    A2 = 1/(1+np.exp(-Z2))\n",
        "    \n",
        "    cache = {\"Z1\": Z1,\n",
        "             \"A1\": A1,\n",
        "             \"Z2\": Z2,\n",
        "             \"A2\": A2}\n",
        "    \n",
        "    return A2, cache"
      ],
      "execution_count": null,
      "outputs": []
    },
    {
      "cell_type": "code",
      "metadata": {
        "id": "uX230CnqSfbA"
      },
      "source": [
        "\n",
        "def compute_cost(A2, Y, parameters):\n",
        "    \n",
        "    m = Y.shape[1]\n",
        "\n",
        "    logprobs = np.sum(np.multiply(Y,np.log(A2))+np.multiply((1-Y),np.log(1-A2)))\n",
        "    cost = -(1/m)*logprobs\n",
        "    \n",
        "    cost = float(np.squeeze(cost))  \n",
        "    \n",
        "    return cost"
      ],
      "execution_count": null,
      "outputs": []
    },
    {
      "cell_type": "code",
      "metadata": {
        "id": "lwts-DEtSpSn"
      },
      "source": [
        "\n",
        "def backward_propagation(parameters, cache, X, Y):\n",
        "    m = X.shape[1]\n",
        "\n",
        "    W1 = parameters[\"W1\"]\n",
        "    W2 = parameters[\"W2\"]\n",
        "\n",
        "    A1 = cache[\"A1\"]\n",
        "    A2 = cache[\"A2\"]\n",
        "\n",
        "    dZ2 = A2-Y\n",
        "    dW2 = (1/m)*(np.dot(dZ2,A1.T))\n",
        "    db2 = (1/m)*(np.sum(dZ2,axis=1,keepdims=True))\n",
        "    dZ1 = np.dot(W2.T,dZ2)*(1-np.power(A1,2))\n",
        "    dW1 = (1/m)*np.dot(dZ1,X.T)\n",
        "    db1 = (1/m)*np.sum(dZ1,axis=1,keepdims=True)\n",
        "    ### END CODE HERE ###\n",
        "    \n",
        "    grads = {\"dW1\": dW1,\n",
        "             \"db1\": db1,\n",
        "             \"dW2\": dW2,\n",
        "             \"db2\": db2}\n",
        "    \n",
        "    return grads"
      ],
      "execution_count": null,
      "outputs": []
    },
    {
      "cell_type": "code",
      "metadata": {
        "id": "T-YkC9_aSxhe"
      },
      "source": [
        "def update_parameters(parameters, grads, learning_rate = 1.2):\n",
        "    W1 = parameters[\"W1\"]\n",
        "    b1 = parameters[\"b1\"]\n",
        "    W2 = parameters[\"W2\"]\n",
        "    b2 = parameters[\"b2\"]\n",
        "    \n",
        "    dW1 = grads[\"dW1\"]\n",
        "    db1 = grads[\"db1\"]\n",
        "    dW2 = grads[\"dW2\"]\n",
        "    db2 = grads[\"db2\"]\n",
        "\n",
        "    W1 = W1-learning_rate*dW1\n",
        "    b1 = b1-learning_rate*db1\n",
        "    W2 = W2-learning_rate*dW2\n",
        "    b2 = b2-learning_rate*db2\n",
        "    \n",
        "    parameters = {\"W1\": W1,\n",
        "                  \"b1\": b1,\n",
        "                  \"W2\": W2,\n",
        "                  \"b2\": b2}\n",
        "    \n",
        "    return parameters"
      ],
      "execution_count": null,
      "outputs": []
    },
    {
      "cell_type": "code",
      "metadata": {
        "id": "S7t9tawAS6_2"
      },
      "source": [
        "def nn_model(X, Y, n_h, num_iterations = 10000, print_cost=False):\n",
        "    \n",
        "    np.random.seed(3)\n",
        "    n_x = layer_sizes(X, Y)[0]\n",
        "    n_y = layer_sizes(X, Y)[2]\n",
        "\n",
        "    parameters = initialize_parameters(n_x,n_h,n_y)\n",
        "\n",
        "\n",
        "    for i in range(0, num_iterations):\n",
        "\n",
        "        A2, cache = forward_propagation(X,parameters)\n",
        "        \n",
        "        cost = compute_cost(A2,Y,parameters)\n",
        "\n",
        "        grads = backward_propagation(parameters,cache,X,Y)\n",
        "\n",
        "        parameters = update_parameters(parameters,grads)\n",
        "\n",
        "        if print_cost and i % 1000 == 0:\n",
        "            print (\"Cost after iteration %i: %f\" %(i, cost))\n",
        "\n",
        "    return parameters"
      ],
      "execution_count": null,
      "outputs": []
    },
    {
      "cell_type": "code",
      "metadata": {
        "id": "wjiOBXSWTGF3",
        "outputId": "eb08392a-d1f2-4c09-982d-cb74c1236714",
        "colab": {
          "base_uri": "https://localhost:8080/",
          "height": 1000
        }
      },
      "source": [
        "x_train = np.array([\n",
        "\n",
        "    [0, 1, 0, 1, 0, 1, 1, 0, 1],\n",
        "    [1, 0, 1, 1, 0, 0, 0, 1, 1],\n",
        "    [1, 1, 0, 0, 0, 1, 1, 1, 0],\n",
        "    [0, 1, 1, 1, 0, 0, 1, 0, 1],\n",
        "    [1, 0, 1, 1, 0, 1, 0, 1, 0],\n",
        "    [1, 1, 0, 0, 0, 1, 1, 0, 1],\n",
        "    [0, 1, 1, 1, 0, 0, 0, 1, 1],\n",
        "    [1, 0, 1, 0, 0, 1, 1, 1, 0],\n",
        "\n",
        "    [1, 0, 1, 0, 0, 0, 1, 1, 1],\n",
        "    [1, 0, 1, 1, 0, 0, 1, 0, 1],\n",
        "    [1, 1, 1, 0, 0, 0, 1, 0, 1],\n",
        "    [1, 0, 1, 0, 0, 1, 1, 0, 1],\n",
        "    [0, 1, 0, 1, 0, 1, 1, 1, 0],\n",
        "    [0, 1, 1, 1, 0, 1, 0, 1, 0],\n",
        "    [0, 1, 0, 1, 0, 1, 0, 1, 1],\n",
        "    [1, 1, 0, 1, 0, 1, 0, 1, 0],\n",
        "\n",
        "    [0, 1, 1, 0, 0, 1, 1, 0, 1],\n",
        "    [1, 1, 0, 1, 0, 0, 1, 0, 1],\n",
        "    [1, 0, 0, 0, 0, 1, 1, 1 ,1],\n",
        "    [1, 1, 1, 0, 0, 1, 1, 0, 0],\n",
        "    [1, 0, 1, 1, 0, 0, 1, 1, 0],\n",
        "    [1, 0, 1, 0, 0, 1, 0, 1, 1],\n",
        "    [1, 1, 1, 1, 0, 0, 0, 0, 1],\n",
        "    [0, 0, 1, 1, 0, 0, 1, 1, 1],\n",
        "\n",
        "    [0, 1, 0, 0, 0, 1, 1, 1, 1],\n",
        "    [1, 0, 0, 1, 0, 1, 1, 1, 0],\n",
        "    [1, 1, 1, 1, 0, 0, 0, 1, 0],\n",
        "    [0, 1, 1, 1, 0, 1, 0, 0, 1],\n",
        "    [0, 1, 0, 1, 0, 0, 1, 1, 1],\n",
        "    [0, 0, 1, 1, 0, 1, 0, 1, 1],\n",
        "    [1, 1, 1, 0, 0, 1, 0, 1, 0],\n",
        "    [1, 1, 0, 1, 0, 1, 1, 0, 0],\n",
        "\n",
        "    [0, 0, 1, 1, 0, 1, 1, 1, 0],\n",
        "    [0, 1, 1, 1, 0, 1, 1, 0, 0],\n",
        "    [0, 1, 1, 1, 0, 0, 1, 1, 0],\n",
        "    [0, 1, 1, 0, 0, 1, 1, 1, 0],\n",
        "    [1, 0, 0, 1, 0, 1, 0, 1, 1],\n",
        "    [1, 1, 0, 1, 0, 1, 0, 0, 1],\n",
        "    [1, 1, 0, 1, 0, 0, 0, 1, 1],\n",
        "    [1, 1, 0, 0, 0, 1, 0, 1, 1],\n",
        "\n",
        "    [0, 1, 1, 0, 0, 0, 1, 1, 1],\n",
        "    [1, 1, 0, 0, 0, 0, 1, 1, 1],\n",
        "    [1, 1, 1, 0, 0, 0, 1, 1, 0],\n",
        "    [1, 1, 1, 0, 0, 0, 0, 1, 1],\n",
        "    [0, 0, 1, 1, 0, 1, 1, 0, 1],\n",
        "    [1, 0, 0, 1, 0, 1, 0, 0, 1],\n",
        "    [1, 0, 1, 1, 0, 1, 0, 0, 1],\n",
        "    [1, 0, 1, 1, 0, 1, 1, 0, 0],\n",
        "\n",
        "    [0, 0, 0, 1, 0, 1, 1, 1, 1],\n",
        "    [1, 1, 0, 1, 0, 0, 1, 1, 0],\n",
        "    [1, 1, 1, 1, 0, 1, 0, 0, 0],\n",
        "    [0, 1, 1, 0, 0, 1, 0, 1, 1]\n",
        "\n",
        "])\n",
        "print((x_train.T).shape)\n",
        "\n",
        "y_train = np.array([\n",
        "\n",
        "    [1], \n",
        "    [1],\n",
        "    [1],\n",
        "    [1],\n",
        "    [1],\n",
        "    [1],\n",
        "    [1],\n",
        "    [1],\n",
        "    [1],\n",
        "    [1],\n",
        "    [1],\n",
        "    [1],\n",
        "    [1],\n",
        "    [1],\n",
        "    [1],\n",
        "    [1],\n",
        "    [0],\n",
        "    [0],\n",
        "    [0],\n",
        "    [0],\n",
        "    [0],\n",
        "    [0],\n",
        "    [0],\n",
        "    [0],\n",
        "    [0],\n",
        "    [0],\n",
        "    [0],\n",
        "    [0],\n",
        "    [0],\n",
        "    [0],\n",
        "    [0],\n",
        "    [0],\n",
        "    [0],\n",
        "    [0],\n",
        "    [0],\n",
        "    [0],\n",
        "    [0],\n",
        "    [0],\n",
        "    [0],\n",
        "    [0],\n",
        "    [0],\n",
        "    [0],\n",
        "    [0],\n",
        "    [0],\n",
        "    [0],\n",
        "    [0],\n",
        "    [0],\n",
        "    [0],\n",
        "    [0],\n",
        "    [0],\n",
        "    [0],\n",
        "    [0]\n",
        "\n",
        "])\n",
        "print(y_train.shape)\n",
        "\n",
        "for i in x_train:\n",
        "    print(i)\n",
        "\n",
        "parameters = nn_model(x_train.T, y_train.T, 5, num_iterations=10000, print_cost=True)\n"
      ],
      "execution_count": null,
      "outputs": [
        {
          "output_type": "stream",
          "text": [
            "(9, 52)\n",
            "(52, 1)\n",
            "[0 1 0 1 0 1 1 0 1]\n",
            "[1 0 1 1 0 0 0 1 1]\n",
            "[1 1 0 0 0 1 1 1 0]\n",
            "[0 1 1 1 0 0 1 0 1]\n",
            "[1 0 1 1 0 1 0 1 0]\n",
            "[1 1 0 0 0 1 1 0 1]\n",
            "[0 1 1 1 0 0 0 1 1]\n",
            "[1 0 1 0 0 1 1 1 0]\n",
            "[1 0 1 0 0 0 1 1 1]\n",
            "[1 0 1 1 0 0 1 0 1]\n",
            "[1 1 1 0 0 0 1 0 1]\n",
            "[1 0 1 0 0 1 1 0 1]\n",
            "[0 1 0 1 0 1 1 1 0]\n",
            "[0 1 1 1 0 1 0 1 0]\n",
            "[0 1 0 1 0 1 0 1 1]\n",
            "[1 1 0 1 0 1 0 1 0]\n",
            "[0 1 1 0 0 1 1 0 1]\n",
            "[1 1 0 1 0 0 1 0 1]\n",
            "[1 0 0 0 0 1 1 1 1]\n",
            "[1 1 1 0 0 1 1 0 0]\n",
            "[1 0 1 1 0 0 1 1 0]\n",
            "[1 0 1 0 0 1 0 1 1]\n",
            "[1 1 1 1 0 0 0 0 1]\n",
            "[0 0 1 1 0 0 1 1 1]\n",
            "[0 1 0 0 0 1 1 1 1]\n",
            "[1 0 0 1 0 1 1 1 0]\n",
            "[1 1 1 1 0 0 0 1 0]\n",
            "[0 1 1 1 0 1 0 0 1]\n",
            "[0 1 0 1 0 0 1 1 1]\n",
            "[0 0 1 1 0 1 0 1 1]\n",
            "[1 1 1 0 0 1 0 1 0]\n",
            "[1 1 0 1 0 1 1 0 0]\n",
            "[0 0 1 1 0 1 1 1 0]\n",
            "[0 1 1 1 0 1 1 0 0]\n",
            "[0 1 1 1 0 0 1 1 0]\n",
            "[0 1 1 0 0 1 1 1 0]\n",
            "[1 0 0 1 0 1 0 1 1]\n",
            "[1 1 0 1 0 1 0 0 1]\n",
            "[1 1 0 1 0 0 0 1 1]\n",
            "[1 1 0 0 0 1 0 1 1]\n",
            "[0 1 1 0 0 0 1 1 1]\n",
            "[1 1 0 0 0 0 1 1 1]\n",
            "[1 1 1 0 0 0 1 1 0]\n",
            "[1 1 1 0 0 0 0 1 1]\n",
            "[0 0 1 1 0 1 1 0 1]\n",
            "[1 0 0 1 0 1 0 0 1]\n",
            "[1 0 1 1 0 1 0 0 1]\n",
            "[1 0 1 1 0 1 1 0 0]\n",
            "[0 0 0 1 0 1 1 1 1]\n",
            "[1 1 0 1 0 0 1 1 0]\n",
            "[1 1 1 1 0 1 0 0 0]\n",
            "[0 1 1 0 0 1 0 1 1]\n",
            "Cost after iteration 0: 0.693222\n",
            "Cost after iteration 1000: 0.016065\n",
            "Cost after iteration 2000: 0.003697\n",
            "Cost after iteration 3000: 0.002021\n",
            "Cost after iteration 4000: 0.001380\n",
            "Cost after iteration 5000: 0.001044\n",
            "Cost after iteration 6000: 0.000837\n",
            "Cost after iteration 7000: 0.000698\n",
            "Cost after iteration 8000: 0.000598\n",
            "Cost after iteration 9000: 0.000523\n"
          ],
          "name": "stdout"
        }
      ]
    },
    {
      "cell_type": "code",
      "metadata": {
        "id": "U9wHWA3VTPiZ",
        "outputId": "095798dc-44ef-4e90-acad-390f8d38f4e8",
        "colab": {
          "base_uri": "https://localhost:8080/",
          "height": 424
        }
      },
      "source": [
        "\n",
        "print(\"W1 = \" + str(parameters[\"W1\"]))\n",
        "print(\"b1 = \" + str(parameters[\"b1\"]))\n",
        "print(\"W2 = \" + str(parameters[\"W2\"]))\n",
        "print(\"b2 = \" + str(parameters[\"b2\"]))"
      ],
      "execution_count": null,
      "outputs": [
        {
          "output_type": "stream",
          "text": [
            "W1 = [[-2.28555152e+00  2.32581410e+00 -4.35055730e+00 -9.70679125e-01\n",
            "  -1.79343559e-02  2.88419955e+00 -5.83893296e-01 -5.92062544e-03\n",
            "  -1.12665487e+00]\n",
            " [-4.84420113e+00 -2.79430712e+00 -8.36573123e-01 -2.74149360e+00\n",
            "  -1.11792545e-02  2.77293963e+00 -1.01718630e+00  2.72732772e+00\n",
            "   3.38507716e+00]\n",
            " [-2.04740409e+00 -1.43514828e+00  3.58239210e-01 -1.37528669e+00\n",
            "   2.56570452e-03  9.69309315e-01  1.05309599e+00  2.26456300e+00\n",
            "   2.67738270e+00]\n",
            " [-2.26093147e+00 -1.39673614e+00  2.15524302e-01  1.77926616e+00\n",
            "   2.23136679e-02  3.10529366e-01 -4.75861246e+00  2.91275136e+00\n",
            "  -9.48179041e-01]\n",
            " [ 1.37553137e+00  2.69233900e+00 -2.12569395e+00  2.68489403e+00\n",
            "  -3.13508197e-03  5.57636066e-01 -3.21037310e+00  1.89641079e+00\n",
            "  -1.65703142e+00]]\n",
            "b1 = [[-0.92456514]\n",
            " [-0.56811645]\n",
            " [ 0.34551715]\n",
            " [-0.95964943]\n",
            " [ 0.57231044]]\n",
            "W2 = [[ 8.05951499 -9.52111042  6.23732409  8.73919424 -7.94752278]]\n",
            "b2 = [[2.10388905]]\n"
          ],
          "name": "stdout"
        }
      ]
    },
    {
      "cell_type": "code",
      "metadata": {
        "id": "zsU7BXhbTT8H"
      },
      "source": [
        "def predict(parameters, X):\n",
        "   \n",
        "    A2, cache = forward_propagation(X,parameters)\n",
        "    predictions = A2>0.5\n",
        "    \n",
        "    return predictions"
      ],
      "execution_count": null,
      "outputs": []
    },
    {
      "cell_type": "code",
      "metadata": {
        "id": "WKAPmVoLTbwo",
        "outputId": "90e28cf6-173f-4d51-d0a7-8c7598a4a4a3",
        "colab": {
          "base_uri": "https://localhost:8080/",
          "height": 110
        }
      },
      "source": [
        "predictions = predict(parameters,x_train.T)\n",
        "for i in predictions:\n",
        "    print(i)"
      ],
      "execution_count": null,
      "outputs": [
        {
          "output_type": "stream",
          "text": [
            "[ True  True  True  True  True  True  True  True  True  True  True  True\n",
            "  True  True  True  True False False False False False False False False\n",
            " False False False False False False False False False False False False\n",
            " False False False False False False False False False False False False\n",
            " False False False False]\n"
          ],
          "name": "stdout"
        }
      ]
    },
    {
      "cell_type": "code",
      "metadata": {
        "id": "QOUOVDwDTki4"
      },
      "source": [
        "import cv2\n",
        "img=cv2.imread('/content/thinning2.jpeg',0)\n",
        "\n",
        "img=cv2.resize(img,(128,128))\n",
        "# for i in range(img.shape[0]):\n",
        "#   for j in range(img.shape[1]):\n",
        "#     if(img[i][j]==255):\n",
        "#       print(1, end=\" \")\n",
        "#     else:\n",
        "#       print(0,end=\" \")\n",
        "#   print()"
      ],
      "execution_count": null,
      "outputs": []
    },
    {
      "cell_type": "code",
      "metadata": {
        "id": "QtLaZqw0Tt4v",
        "outputId": "feee4588-4538-477b-ef53-db16c0fccadf",
        "colab": {
          "base_uri": "https://localhost:8080/",
          "height": 55
        }
      },
      "source": [
        "feature_locations = []\n",
        "\n",
        "for i in range(0,125,3):\n",
        "  for j in range(0,125,3):\n",
        "    x=[]\n",
        "    for m in range(3):\n",
        "      for n in range(3):\n",
        "        val = img[i+m][j+n]\n",
        "        if val == 255:\n",
        "          x.append(1)\n",
        "        else:\n",
        "          x.append(0)\n",
        "    x=np.array(x)\n",
        "    x=x.reshape(-1,1)\n",
        "    # print(x.shape)\n",
        "    prediction = predict(parameters, x)\n",
        "    if prediction > 0.5:\n",
        "      feature_locations.append([i+1, j+1])\n",
        "\n",
        "print(feature_locations)    \n",
        "\n"
      ],
      "execution_count": null,
      "outputs": [
        {
          "output_type": "stream",
          "text": [
            "[[1, 28], [1, 34], [4, 7], [4, 10], [4, 103], [4, 118], [7, 16], [7, 52], [7, 64], [7, 67], [7, 70], [7, 73], [7, 76], [7, 79], [7, 82], [7, 85], [7, 88], [7, 91], [7, 124], [10, 10], [10, 28], [10, 124], [13, 40], [13, 61], [13, 64], [13, 100], [16, 22], [19, 43], [19, 52], [19, 109], [19, 121], [22, 7], [22, 16], [22, 43], [22, 46], [22, 82], [22, 121], [25, 82], [28, 1], [28, 19], [28, 40], [28, 121], [28, 124], [31, 16], [31, 37], [31, 103], [34, 22], [34, 25], [34, 43], [37, 19], [37, 64], [37, 73], [37, 76], [37, 79], [37, 82], [37, 85], [37, 88], [37, 121], [40, 61], [46, 7], [46, 43], [46, 55], [46, 91], [46, 97], [46, 103], [46, 106], [49, 13], [49, 34], [49, 109], [49, 115], [49, 118], [52, 22], [52, 34], [52, 55], [52, 58], [52, 61], [52, 97], [52, 103], [55, 7], [55, 19], [55, 40], [55, 49], [55, 88], [55, 97], [55, 106], [58, 49], [58, 52], [58, 82], [58, 121], [61, 7], [61, 10], [61, 13], [61, 106], [64, 7], [64, 22], [64, 25], [64, 118], [67, 1], [67, 55], [67, 58], [67, 61], [67, 88], [67, 94], [70, 28], [70, 31], [70, 91], [73, 1], [73, 19], [73, 58], [76, 4], [76, 13], [76, 16], [76, 55], [76, 58], [76, 64], [76, 115], [79, 7], [82, 19], [82, 52], [82, 61], [82, 64], [82, 67], [82, 70], [82, 73], [82, 76], [82, 79], [85, 28], [85, 79], [85, 109], [88, 4], [88, 49], [88, 91], [91, 7], [91, 16], [91, 31], [91, 52], [91, 73], [91, 76], [91, 79], [91, 88], [91, 91], [91, 97], [91, 112], [91, 118], [94, 25], [94, 121], [97, 19], [97, 34], [97, 112], [100, 22], [100, 40], [100, 46], [100, 64], [100, 73], [103, 1], [103, 49], [106, 34], [106, 40], [106, 43], [106, 61], [106, 64], [106, 76], [106, 103], [106, 115], [109, 7], [109, 34], [109, 67], [109, 70], [112, 1], [112, 37], [112, 106], [112, 109], [112, 118], [115, 73], [115, 103], [118, 4], [118, 22], [118, 25], [118, 34], [118, 40], [121, 73], [121, 79], [121, 94], [124, 88], [124, 100], [124, 103], [124, 121], [124, 124]]\n"
          ],
          "name": "stdout"
        }
      ]
    },
    {
      "cell_type": "code",
      "metadata": {
        "id": "Gmp2IpafY__X",
        "outputId": "e2af27f9-fc81-4986-86ca-d43aa683f239",
        "colab": {
          "base_uri": "https://localhost:8080/",
          "height": 305
        }
      },
      "source": [
        "img2=cv2.imread('/content/thinning2.jpeg')\n",
        "img2=cv2.resize(img2,(128,128))\n",
        "print(img2.shape)\n",
        "for i in feature_locations:\n",
        "  cv2.circle(img2, (i[0], i[1]), 2, (0, 255, 0))\n",
        "\n",
        "plt.imshow(img2)"
      ],
      "execution_count": null,
      "outputs": [
        {
          "output_type": "stream",
          "text": [
            "(128, 128, 3)\n"
          ],
          "name": "stdout"
        },
        {
          "output_type": "execute_result",
          "data": {
            "text/plain": [
              "<matplotlib.image.AxesImage at 0x7f82cb7de2e8>"
            ]
          },
          "metadata": {
            "tags": []
          },
          "execution_count": 102
        },
        {
          "output_type": "display_data",
          "data": {
            "image/png": "[encoded data removed]",
            "text/plain": [
              "<Figure size 432x288 with 1 Axes>"
            ]
          },
          "metadata": {
            "tags": [],
            "needs_background": "light"
          }
        }
      ]
    },
    {
      "cell_type": "code",
      "metadata": {
        "id": "gm0sMa4YmG7p"
      },
      "source": [
        ""
      ],
      "execution_count": null,
      "outputs": []
    }
  ]
}